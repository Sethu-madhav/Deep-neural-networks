{
  "cells": [
    {
      "cell_type": "code",
      "execution_count": null,
      "metadata": {
        "id": "2vJeebDtZxDl"
      },
      "outputs": [],
      "source": [
        "import torch\n",
        "import torch.nn.functional as F\n",
        "import matplotlib.pyplot as plt\n",
        "%matplotlib inline"
      ]
    },
    {
      "cell_type": "code",
      "execution_count": null,
      "metadata": {
        "colab": {
          "base_uri": "https://localhost:8080/",
          "height": 35
        },
        "id": "sCP99ixsaNmN",
        "outputId": "26c0e905-44c3-4df1-ed40-0502f54884a6"
      },
      "outputs": [
        {
          "data": {
            "application/vnd.google.colaboratory.intrinsic+json": {
              "type": "string"
            },
            "text/plain": [
              "'emma'"
            ]
          },
          "execution_count": 3,
          "metadata": {},
          "output_type": "execute_result"
        }
      ],
      "source": [
        "#  read the names file\n",
        "words = open('names.txt', 'r').read().splitlines()\n",
        "words[0]"
      ]
    },
    {
      "cell_type": "code",
      "execution_count": null,
      "metadata": {
        "id": "NLIKgNPcakIc"
      },
      "outputs": [],
      "source": [
        "# build the vocabulary of chars and mapiings to/from integers\n",
        "chars = sorted(list(set(''.join(words))))   # join all the words, remove duplicates using set(), turn it into a list to sort\n",
        "stoi = {s:i+1 for i, s in enumerate(chars)}\n",
        "stoi['.'] = 0\n",
        "itos = {i:s for s, i in stoi.items()}\n",
        "print(itos)"
      ]
    },
    {
      "cell_type": "code",
      "execution_count": 380,
      "metadata": {
        "collapsed": true,
        "id": "F_nVAJ4SbBZZ"
      },
      "outputs": [],
      "source": [
        "# build the dataset\n",
        "\n",
        "block_size = 3  # context length: how many characters do we take to predict the next one? (hyperparameter)\n",
        "X, Y = [], []\n",
        "for w in words:\n",
        "  # print(w)\n",
        "  context = [0] * block_size\n",
        "  for ch in w + '.':\n",
        "    ix = stoi[ch]\n",
        "    X.append(context)\n",
        "    Y.append(ix)\n",
        "    # print(''.join(itos[i] for i in context), '---->', itos[ix])\n",
        "    context = context[1:] + [ix]    # crop and append\n",
        "\n",
        "X = torch.tensor(X)\n",
        "Y = torch.tensor(Y)\n"
      ]
    },
    {
      "cell_type": "code",
      "execution_count": 381,
      "metadata": {
        "colab": {
          "base_uri": "https://localhost:8080/"
        },
        "id": "7bwaj23mcBSK",
        "outputId": "72947e63-6fc0-41dc-ced2-3070d063767d"
      },
      "outputs": [
        {
          "output_type": "stream",
          "name": "stdout",
          "text": [
            "torch.Size([182424, 3]) torch.Size([182424])\n",
            "torch.Size([22836, 3]) torch.Size([22836])\n",
            "torch.Size([22886, 3]) torch.Size([22886])\n"
          ]
        }
      ],
      "source": [
        "# build the dataset\n",
        "def build_dataset(words):\n",
        "  block_size = 3  # context length: how many characters do we take to predict the next one? (hyperparameter)\n",
        "  X, Y = [], []\n",
        "  for w in words:\n",
        "    # print(w)\n",
        "    context = [0] * block_size\n",
        "    for ch in w + '.':\n",
        "      ix = stoi[ch]\n",
        "      X.append(context)\n",
        "      Y.append(ix)\n",
        "      # print(''.join(itos[i] for i in context), '---->', itos[ix])\n",
        "      context = context[1:] + [ix]    # crop and append\n",
        "\n",
        "  X = torch.tensor(X)\n",
        "  Y = torch.tensor(Y)\n",
        "  print(X.shape, Y.shape)\n",
        "  return X, Y\n",
        "\n",
        "import random\n",
        "random.seed(42)\n",
        "random.shuffle(words)\n",
        "n1 = int(0.8 * len(words))\n",
        "n2 = int(0.9 * len(words))\n",
        "Xtr, Ytr = build_dataset(words[:n1])\n",
        "Xdev, Ydev = build_dataset(words[n1:n2])\n",
        "Xte, Yte = build_dataset(words[n2:])\n"
      ]
    },
    {
      "cell_type": "code",
      "execution_count": 382,
      "metadata": {
        "colab": {
          "base_uri": "https://localhost:8080/"
        },
        "id": "N43vNosN12U3",
        "outputId": "d0af9247-280c-4dc8-e9d2-3f0aa0858540"
      },
      "outputs": [
        {
          "output_type": "execute_result",
          "data": {
            "text/plain": [
              "(32033, 25626)"
            ]
          },
          "metadata": {},
          "execution_count": 382
        }
      ],
      "source": [
        "len(words), n1"
      ]
    },
    {
      "cell_type": "code",
      "execution_count": 344,
      "metadata": {
        "id": "AVBL4YSY8Bdf"
      },
      "outputs": [],
      "source": [
        "# Look up table\n",
        "C = torch.randn(size=(27, 2))"
      ]
    },
    {
      "cell_type": "code",
      "execution_count": null,
      "metadata": {
        "id": "P2GgATagF4O9"
      },
      "outputs": [],
      "source": [
        "emb = C[X]\n",
        "emb.shape"
      ]
    },
    {
      "cell_type": "code",
      "execution_count": null,
      "metadata": {
        "id": "spsIGTjFRQDj"
      },
      "outputs": [],
      "source": [
        "# hideen layer\n",
        "W1 = torch.randn(size=(6, 100))  # 6 coz input is a 3x2 matrix flattened to 6, and 100 is a hyperparameter\n",
        "b1 = torch.randn(100)"
      ]
    },
    {
      "cell_type": "code",
      "execution_count": null,
      "metadata": {
        "id": "w474ZmsKTKJl"
      },
      "outputs": [],
      "source": [
        "# torch.cat([emb[:, 0, :], emb[:, 1, :], emb[:, 2, :]], dim=1).shape\n",
        "# torch.cat(torch.unbind(emb, dim=1), dim=1).shape"
      ]
    },
    {
      "cell_type": "code",
      "execution_count": null,
      "metadata": {
        "id": "lxGfqgZlSxnY"
      },
      "outputs": [],
      "source": [
        "h = emb.view(-1, 6) @ W1 + b1   # view is efficent, it doesnt create a new tensor with new storage\n",
        "                                          # -1 coz pytorch figures out no.of input example"
      ]
    },
    {
      "cell_type": "code",
      "execution_count": null,
      "metadata": {
        "id": "dTgMjDQDdEcs"
      },
      "outputs": [],
      "source": [
        "h.shape"
      ]
    },
    {
      "cell_type": "code",
      "execution_count": null,
      "metadata": {
        "id": "UVeLv5pfdQfw"
      },
      "outputs": [],
      "source": [
        "# final layer\n",
        "W2 = torch.randn(size=(100, 27))      # output is 27 coz 27 possible characters\n",
        "b2 = torch.randn(27)"
      ]
    },
    {
      "cell_type": "code",
      "execution_count": null,
      "metadata": {
        "id": "nV6SLKdEedxg"
      },
      "outputs": [],
      "source": [
        "logits = h @ W2 + b2"
      ]
    },
    {
      "cell_type": "code",
      "execution_count": null,
      "metadata": {
        "id": "u-N2V-vOei_Q"
      },
      "outputs": [],
      "source": [
        "counts = logits.exp()"
      ]
    },
    {
      "cell_type": "code",
      "execution_count": null,
      "metadata": {
        "id": "PZir4rbVeo6F"
      },
      "outputs": [],
      "source": [
        "prob = counts / counts.sum(dim=1, keepdim=True)"
      ]
    },
    {
      "cell_type": "code",
      "execution_count": null,
      "metadata": {
        "colab": {
          "base_uri": "https://localhost:8080/"
        },
        "id": "jCyGmKWGe3GS",
        "outputId": "e08862f1-dd83-4242-81c4-a1ab68b08ef6"
      },
      "outputs": [
        {
          "data": {
            "text/plain": [
              "tensor(1.)"
            ]
          },
          "execution_count": 17,
          "metadata": {},
          "output_type": "execute_result"
        }
      ],
      "source": [
        "prob[0].sum()"
      ]
    },
    {
      "cell_type": "code",
      "execution_count": null,
      "metadata": {
        "id": "i-zSZU0le8Ml"
      },
      "outputs": [],
      "source": [
        "loss = -prob[torch.arange(32), Y].log().mean()  # iterates the rows and each row grab column ix given by Y"
      ]
    },
    {
      "cell_type": "code",
      "execution_count": null,
      "metadata": {
        "colab": {
          "base_uri": "https://localhost:8080/"
        },
        "id": "ZlK2ix7YgPk1",
        "outputId": "01dcc58b-c075-4d04-8d21-b6e56cf52065"
      },
      "outputs": [
        {
          "data": {
            "text/plain": [
              "(torch.Size([182580, 3]), torch.Size([182580]))"
            ]
          },
          "execution_count": 138,
          "metadata": {},
          "output_type": "execute_result"
        }
      ],
      "source": [
        "# ---------- More organized ----------- #\n",
        "Xtr.shape, Ytr.shape"
      ]
    },
    {
      "cell_type": "code",
      "execution_count": 383,
      "metadata": {
        "id": "e1U64tNIgKKn"
      },
      "outputs": [],
      "source": [
        "g = torch.Generator().manual_seed(2147483647)\n",
        "C = torch.randn(size=(27, 15), generator=g)\n",
        "W1 = torch.randn(size=(45, 300), generator=g)\n",
        "b1 = torch.randn(300, generator=g)\n",
        "W2 = torch.randn(size=(300, 27), generator=g)\n",
        "b2 = torch.randn(27, generator=g)\n",
        "parameters = [C, W1, b1, W2, b2]"
      ]
    },
    {
      "cell_type": "code",
      "execution_count": 384,
      "metadata": {
        "colab": {
          "base_uri": "https://localhost:8080/"
        },
        "id": "dcm4qgNMhVBI",
        "outputId": "6a527d25-1c12-4276-efa4-c2856d132ae9"
      },
      "outputs": [
        {
          "output_type": "execute_result",
          "data": {
            "text/plain": [
              "22332"
            ]
          },
          "metadata": {},
          "execution_count": 384
        }
      ],
      "source": [
        "sum(p.nelement() for p in parameters)   # no.of parameters"
      ]
    },
    {
      "cell_type": "code",
      "execution_count": null,
      "metadata": {
        "id": "4QQIqlCuhR8B"
      },
      "outputs": [],
      "source": [
        "emb = C[X]\n",
        "h = torch.tanh(emb.view(-1, 30) @ W1 + b1)  # (32, 100)\n",
        "logits = h @ W2 + b2  # (32, 27)\n",
        "# counts = logits.exp()\n",
        "# probs = counts / counts.sum(dim =1, keepdim=True)\n",
        "# loss = -probs[torch.arange(32), Y].log().mean()\n",
        "loss = F.cross_entropy(logits, Y)   # cross_entropy is more efficient over our own implementation\n"
      ]
    },
    {
      "cell_type": "markdown",
      "metadata": {
        "id": "Asc580ndjoVE"
      },
      "source": [
        "Note :  why cross_entropy is more efficient ?\n",
        "1. it doesnt create intermediate tensors in memory,\n",
        "   instead pytorch will cluster up all these OPs into a fused kernels that efficiently evaluates the mathematical OPs\n",
        "2. The backward pass can be made much more efficient, not just because its a fused kernel but mathematically its much simple backward pass.\n",
        "\n",
        "    ex: in micrograd the forward to a tanh is a complex mathematical atomic OPs like exp(), mul(), div(), add()\n",
        "    \n",
        "    but when doing backward pass we dont have to do backward pass to these atomic OPs, instead we used 1-tan^2 x, makes it simplifies the derivatives\n",
        "3. Makes things numerically well behaved. when doing exp() if the numbers grow negative and if there is high positive value it goes to INF\n",
        "    ex: for logits = tensor([-100, -3, 0. 100])\n",
        "\n",
        "    counts = logits.exp() gives\n",
        "\n",
        "    tensor([3.2e-4, 4.99089e-02, 1.0000e+0,  inf])\n",
        "4. Since large posiitve numbers causes problem, wehn we used Cross entropy pytorch internally subtracts an offset of max value in tensor.\n",
        "    ex: logits = tensor([-100, -3, 0. 100]) - 100 # this -100 pytorch adds internally"
      ]
    },
    {
      "cell_type": "code",
      "execution_count": 387,
      "metadata": {
        "id": "F5yLjQfaNRB2"
      },
      "outputs": [],
      "source": [
        "for p in parameters:\n",
        "  p.requires_grad = True"
      ]
    },
    {
      "cell_type": "code",
      "execution_count": 388,
      "metadata": {
        "id": "07c5IPDwSIvK"
      },
      "outputs": [],
      "source": [
        "loss_l = []"
      ]
    },
    {
      "cell_type": "code",
      "execution_count": 389,
      "metadata": {
        "colab": {
          "base_uri": "https://localhost:8080/"
        },
        "id": "G1YdBXbgjSQd",
        "outputId": "e6dd23da-9028-4ccd-c6c5-deff16a23205"
      },
      "outputs": [
        {
          "output_type": "stream",
          "name": "stdout",
          "text": [
            "loss: 0.2995041608810425\n"
          ]
        }
      ],
      "source": [
        "for i in range(250000):\n",
        "\n",
        "  # mini batch construct\n",
        "  ix = torch.randint(0, Xtr.shape[0], size=(64,))\n",
        "\n",
        "  # 1. forward pass\n",
        "  emb = C[Xtr[ix]]      # grad the rows with index's ix\n",
        "  h = torch.tanh(emb.view(-1, 45) @ W1 + b1)\n",
        "  logits = h @ W2 + b2\n",
        "\n",
        "  # 2. calculate loss\n",
        "  loss = F.cross_entropy(logits, Ytr[ix])\n",
        "\n",
        "  # 3. Grad zero\n",
        "  for p in parameters:\n",
        "    p.grad = None\n",
        "\n",
        "  # 4. backward pass\n",
        "  loss.backward()\n",
        "\n",
        "  # 5. parameter update\n",
        "  lr = 0.1 if i < 150000 else 0.01 # learning rate\n",
        "  for p in parameters:\n",
        "    p.data += -lr * p.grad\n",
        "\n",
        "  # track stats\n",
        "  loss_l.append(loss.item())\n",
        "\n",
        "print(f\"loss: {loss.log10().item()}\")"
      ]
    },
    {
      "cell_type": "code",
      "execution_count": 390,
      "metadata": {
        "colab": {
          "base_uri": "https://localhost:8080/",
          "height": 447
        },
        "id": "TP0Yc8u1gUHo",
        "outputId": "e7fbd746-3b02-4594-d8a2-23534d4fa826"
      },
      "outputs": [
        {
          "output_type": "execute_result",
          "data": {
            "text/plain": [
              "[<matplotlib.lines.Line2D at 0x7ec706adeb90>]"
            ]
          },
          "metadata": {},
          "execution_count": 390
        },
        {
          "output_type": "display_data",
          "data": {
            "text/plain": [
              "<Figure size 640x480 with 1 Axes>"
            ],
            "image/png": "[encoded data removed]"
          },
          "metadata": {}
        }
      ],
      "source": [
        "steps = [i for i in range(len(loss_l))]\n",
        "plt.plot(steps[100:], loss_l[100:])"
      ]
    },
    {
      "cell_type": "code",
      "execution_count": 391,
      "metadata": {
        "colab": {
          "base_uri": "https://localhost:8080/"
        },
        "id": "Poe8jWN6OCmx",
        "outputId": "eddd99a1-19cc-4bb2-831a-bd760477bb8c"
      },
      "outputs": [
        {
          "output_type": "execute_result",
          "data": {
            "text/plain": [
              "2.1390926837921143"
            ]
          },
          "metadata": {},
          "execution_count": 391
        }
      ],
      "source": [
        "# eval for dev dataset\n",
        "emb = C[Xdev]      # grad the rows with index's ix\n",
        "h = torch.tanh(emb.view(-1, 45) @ W1 + b1) # (32, 100)\n",
        "logits = h @ W2 + b2   #(32, 27)\n",
        "dev_loss = F.cross_entropy(logits, Ydev)\n",
        "dev_loss.item()"
      ]
    },
    {
      "cell_type": "code",
      "execution_count": 392,
      "metadata": {
        "colab": {
          "base_uri": "https://localhost:8080/"
        },
        "id": "48PgkFX8fMmc",
        "outputId": "d9dd4893-77ef-4d0b-bed2-9db5e50cb7bc"
      },
      "outputs": [
        {
          "output_type": "execute_result",
          "data": {
            "text/plain": [
              "2.024022102355957"
            ]
          },
          "metadata": {},
          "execution_count": 392
        }
      ],
      "source": [
        "# eval for train dataset\n",
        "emb = C[Xtr]      # grad the rows with index's ix\n",
        "h = torch.tanh(emb.view(-1, 45) @ W1 + b1)\n",
        "logits = h @ W2 + b2\n",
        "train_loss = F.cross_entropy(logits, Ytr)\n",
        "train_loss.item()"
      ]
    },
    {
      "cell_type": "code",
      "execution_count": null,
      "metadata": {
        "id": "mM2v2N9kTIA5"
      },
      "outputs": [],
      "source": [
        "# train   80%          used to optimize the parameters of the model\n",
        "# dev/validation  10%  used to optimize the hyper parameters\n",
        "# test    10%          used to eval performance of the model"
      ]
    },
    {
      "cell_type": "code",
      "source": [
        "# Sample from model\n",
        "g = torch.Generator().manual_seed(2147483647 + 10)\n",
        "\n",
        "for _ in range(10):\n",
        "  out = []\n",
        "  context = [0] * block_size  # init with all ...\n",
        "  while True:\n",
        "    emb = C[torch.tensor(context)]  # (1, block_size, d)\n",
        "    h = torch.tanh(emb.view(1, -1) @ W1 + b1)\n",
        "    logits = h @ W2 + b2\n",
        "    probs = F.softmax(logits, dim=1)\n",
        "    ix = torch.multinomial(probs, num_samples=1, generator=g).item()\n",
        "    context = context[1:] + [ix]\n",
        "    out.append(ix)\n",
        "    if ix == 0:\n",
        "      break\n",
        "  print(''.join(itos[i] for i in out))\n"
      ],
      "metadata": {
        "colab": {
          "base_uri": "https://localhost:8080/"
        },
        "id": "_u2yGKjiY6my",
        "outputId": "7e63e997-2350-4903-d72d-d965b3f5441a"
      },
      "execution_count": 393,
      "outputs": [
        {
          "output_type": "stream",
          "name": "stdout",
          "text": [
            "mora.\n",
            "mayah.\n",
            "see.\n",
            "med.\n",
            "ryla.\n",
            "reisraj.\n",
            "jd.\n",
            "legradeek.\n",
            "melin.\n",
            "shy.\n"
          ]
        }
      ]
    },
    {
      "cell_type": "code",
      "source": [],
      "metadata": {
        "id": "RHXa4kBXb9VS"
      },
      "execution_count": null,
      "outputs": []
    }
  ],
  "metadata": {
    "colab": {
      "provenance": []
    },
    "kernelspec": {
      "display_name": "Python 3",
      "name": "python3"
    },
    "language_info": {
      "name": "python"
    }
  },
  "nbformat": 4,
  "nbformat_minor": 0
}