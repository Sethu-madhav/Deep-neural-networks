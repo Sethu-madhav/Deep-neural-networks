{
  "nbformat": 4,
  "nbformat_minor": 0,
  "metadata": {
    "colab": {
      "provenance": []
    },
    "kernelspec": {
      "name": "python3",
      "display_name": "Python 3"
    },
    "language_info": {
      "name": "python"
    }
  },
  "cells": [
    {
      "cell_type": "code",
      "execution_count": null,
      "metadata": {
        "id": "lyMXjpn0HQTX"
      },
      "outputs": [],
      "source": [
        "import torch"
      ]
    },
    {
      "cell_type": "code",
      "source": [
        "import torch.nn.functional as F\n",
        "import matplotlib.pyplot as plt\n",
        "import random\n",
        "%matplotlib inline"
      ],
      "metadata": {
        "id": "ByYzNxN6yd2O"
      },
      "execution_count": null,
      "outputs": []
    },
    {
      "cell_type": "code",
      "source": [
        "words = open('names.txt', 'r').read().splitlines()\n",
        "len(words)"
      ],
      "metadata": {
        "colab": {
          "base_uri": "https://localhost:8080/"
        },
        "id": "Q3iE7uPRyv9c",
        "outputId": "b27a589a-eda2-4b6c-d4d1-a04e02d5df06"
      },
      "execution_count": null,
      "outputs": [
        {
          "output_type": "execute_result",
          "data": {
            "text/plain": [
              "32033"
            ]
          },
          "metadata": {},
          "execution_count": 3
        }
      ]
    },
    {
      "cell_type": "code",
      "source": [
        "# build vocabulary of characters\n",
        "chars = sorted(list(set(''.join(words))))\n",
        "stoi = {s:i+1 for i, s in enumerate(chars)}\n",
        "stoi['.'] = 0\n",
        "itos = {i:s for s, i in stoi.items()}\n",
        "vocab_size = len(itos)\n",
        "print(vocab_size)\n",
        "print(itos)"
      ],
      "metadata": {
        "colab": {
          "base_uri": "https://localhost:8080/"
        },
        "collapsed": true,
        "id": "nHocuo_ly_gH",
        "outputId": "1622a052-4992-48c1-8f3a-93b439bde4d9"
      },
      "execution_count": null,
      "outputs": [
        {
          "output_type": "stream",
          "name": "stdout",
          "text": [
            "27\n",
            "{1: 'a', 2: 'b', 3: 'c', 4: 'd', 5: 'e', 6: 'f', 7: 'g', 8: 'h', 9: 'i', 10: 'j', 11: 'k', 12: 'l', 13: 'm', 14: 'n', 15: 'o', 16: 'p', 17: 'q', 18: 'r', 19: 's', 20: 't', 21: 'u', 22: 'v', 23: 'w', 24: 'x', 25: 'y', 26: 'z', 0: '.'}\n"
          ]
        }
      ]
    },
    {
      "cell_type": "code",
      "source": [
        "# shuffle up the words\n",
        "random.seed(42)\n",
        "random.shuffle(words)"
      ],
      "metadata": {
        "collapsed": true,
        "id": "OyYJwOAcz4KD"
      },
      "execution_count": null,
      "outputs": []
    },
    {
      "cell_type": "code",
      "source": [
        "# build dataset\n",
        "block_size = 8    # context length: how many characters do we take to predict the next character\n",
        "\n",
        "def build_dataset(words):\n",
        "  X, Y = [], []\n",
        "\n",
        "  for w in words:\n",
        "    context = [0] * block_size\n",
        "    for ch in w + '.':\n",
        "      ix = stoi[ch]\n",
        "      X.append(context)\n",
        "      Y.append(ix)\n",
        "      context = context[1:] + [ix]\n",
        "\n",
        "  X = torch.tensor(X)\n",
        "  Y = torch.tensor(Y)\n",
        "  print(X.shape, Y.shape)\n",
        "  return X, Y\n",
        "\n",
        "n1 = int(0.8 * len(words))\n",
        "n2 = int(0.9 * len(words))\n",
        "Xtr, Ytr = build_dataset(words[:n1])\n",
        "Xdev, Ydev = build_dataset(words[n1:n2])\n",
        "Xte, Yte = build_dataset(words[n2:])\n",
        "\n"
      ],
      "metadata": {
        "colab": {
          "base_uri": "https://localhost:8080/"
        },
        "id": "WYxjmpmP0Pn-",
        "outputId": "c22185f1-b97b-482b-8511-55589567e49d"
      },
      "execution_count": null,
      "outputs": [
        {
          "output_type": "stream",
          "name": "stdout",
          "text": [
            "torch.Size([182625, 8]) torch.Size([182625])\n",
            "torch.Size([22655, 8]) torch.Size([22655])\n",
            "torch.Size([22866, 8]) torch.Size([22866])\n"
          ]
        }
      ]
    },
    {
      "cell_type": "code",
      "source": [
        "for x,y in zip(Xtr[:20], Ytr[:20]):\n",
        "  print(''.join(itos[ix.item()] for ix in x), '-->', itos[y.item()])"
      ],
      "metadata": {
        "colab": {
          "base_uri": "https://localhost:8080/"
        },
        "id": "Fl2sSY1m3zYJ",
        "outputId": "06b74ece-5735-488e-de71-4584e0874193"
      },
      "execution_count": null,
      "outputs": [
        {
          "output_type": "stream",
          "name": "stdout",
          "text": [
            "........ --> y\n",
            ".......y --> u\n",
            "......yu --> h\n",
            ".....yuh --> e\n",
            "....yuhe --> n\n",
            "...yuhen --> g\n",
            "..yuheng --> .\n",
            "........ --> d\n",
            ".......d --> i\n",
            "......di --> o\n",
            ".....dio --> n\n",
            "....dion --> d\n",
            "...diond --> r\n",
            "..diondr --> e\n",
            ".diondre --> .\n",
            "........ --> x\n",
            ".......x --> a\n",
            "......xa --> v\n",
            ".....xav --> i\n",
            "....xavi --> e\n"
          ]
        }
      ]
    },
    {
      "cell_type": "code",
      "source": [
        "# Layers\n",
        "class Linear:\n",
        "  def __init__(self, fan_in, fan_out, bias=True):\n",
        "    self.weight = torch.randn((fan_in, fan_out)) / fan_in**0.5  # note: kaiming init\n",
        "    self.bias = torch.zeros(fan_out) if bias else None\n",
        "\n",
        "  def __call__(self, x):\n",
        "    self.out = x @ self.weight\n",
        "    if self.bias is not None:\n",
        "      self.out += self.bias\n",
        "    return self.out\n",
        "\n",
        "  def parameters(self):\n",
        "    return [self.weight] + ([] if self.bias is None else [self.bias])\n",
        "\n",
        "# --------------------------------------------------------- #\n",
        "class BatchNorm1d:\n",
        "  def __init__(self, dim, eps=1e-5, momentum=0.1):\n",
        "    self.eps = eps\n",
        "    self.momentum = momentum\n",
        "    self.training = True\n",
        "    # parameters (trained with backprop)\n",
        "    self.gamma = torch.ones(dim)\n",
        "    self.beta = torch.zeros(dim)\n",
        "    # buffers (training with a running momentum update)\n",
        "    self.running_mean = torch.zeros(dim)\n",
        "    self.running_var = torch.ones(dim)\n",
        "\n",
        "  def __call__(self, x) :\n",
        "    # calculate forward pass\n",
        "    if self.training:\n",
        "      if x.ndim == 2:\n",
        "        dim = 0\n",
        "      elif x.ndim == 3:\n",
        "        dim = (0, 1)\n",
        "      xmean = x.mean(dim, keepdim=True) # batch mean\n",
        "      xvar = x.var(dim, keepdim=True) # batch variance\n",
        "    else:\n",
        "      xmean = self.running_mean\n",
        "      xvar = self.running_var\n",
        "    xhat = (x - xmean) / torch.sqrt(xvar + self.eps) # normalize to unit variance\n",
        "    self.out = self.gamma * xhat + self.beta # scale and shift\n",
        "\n",
        "    # update the buffers\n",
        "    if self.training:\n",
        "      with torch.no_grad():\n",
        "        self.running_mean = (1 - self.momentum) * self.running_mean + self.momentum * xmean\n",
        "        self.running_var = (1 - self.momentum) * self.running_var + self.momentum * xvar\n",
        "    return self.out\n",
        "\n",
        "  def parameters(self):\n",
        "    return [self.gamma, self.beta]\n",
        "\n",
        "# -------------------------------------------------------- #\n",
        "\n",
        "class Tanh:\n",
        "  def __call__(self, x) :\n",
        "    self.out = torch.tanh(x)\n",
        "    return self.out\n",
        "  def parameters(self):\n",
        "    return []\n",
        "\n",
        "# -------------------------------------------------------- #\n",
        "class Embedding:\n",
        "  def __init__(self, num_emb, emb_dim):\n",
        "    self.weight = torch.randn((num_emb, emb_dim))\n",
        "\n",
        "  def __call__(self, IX) :\n",
        "    self.out = self.weight[IX]\n",
        "    return self.out\n",
        "\n",
        "  def parameters(self):\n",
        "    return [self.weight]\n",
        "\n",
        "# ------------------------------------------------------- #\n",
        "class FlattenConsecutive:\n",
        "\n",
        "  def __init__(self, n): # n : no.of elements that we can to be concatenated in the last dim of output\n",
        "        self.n = n\n",
        "\n",
        "  def __call__(self, x):\n",
        "    B, T, C = x.shape     # B:Batch, T:block_size, C:n_emb\n",
        "    x = x.view(B, T//self.n, C*self.n)\n",
        "    if x.shape[1] == 1:\n",
        "      x = x.squeeze(dim=1)\n",
        "\n",
        "    self.out = x\n",
        "    return self.out\n",
        "\n",
        "  def parameters(self):\n",
        "    return []\n",
        "\n",
        "# ------------------------------------------------------- #\n",
        "class Sequential:\n",
        "  def __init__(self, layers):\n",
        "    self.layers = layers\n",
        "\n",
        "  def __call__(self, x):\n",
        "    for layer in self.layers:\n",
        "      x = layer(x)\n",
        "    self.out = x\n",
        "    return self.out\n",
        "\n",
        "  def parameters(self):\n",
        "    return [p for layer in self.layers for p in layer.parameters()]\n",
        "\n"
      ],
      "metadata": {
        "id": "B8tNIrZk4ieN"
      },
      "execution_count": null,
      "outputs": []
    },
    {
      "cell_type": "code",
      "source": [
        "torch.manual_seed(42);"
      ],
      "metadata": {
        "id": "qU8PD39tABZj"
      },
      "execution_count": null,
      "outputs": []
    },
    {
      "cell_type": "code",
      "source": [
        "n_emb = 32  # the dimensionality of character embedding vector\n",
        "n_hidden = 134 # the number of neurons in hidden layer of the MLP\n",
        "\n",
        "model = Sequential([\n",
        "    Embedding(vocab_size, n_emb),\n",
        "    FlattenConsecutive(2), Linear(n_emb * 2, n_hidden, bias=False), BatchNorm1d(n_hidden), Tanh(),\n",
        "    FlattenConsecutive(2), Linear(n_hidden * 2, n_hidden, bias=False), BatchNorm1d(n_hidden), Tanh(),\n",
        "    FlattenConsecutive(2), Linear(n_hidden * 2, n_hidden, bias=False), BatchNorm1d(n_hidden), Tanh(),\n",
        "    Linear(n_hidden, vocab_size),\n",
        "])\n",
        "\n",
        "# parameter init\n",
        "with torch.no_grad():\n",
        "  model.layers[-1].weight *= 0.1  # last layer make less confident\n",
        "\n",
        "parameters = model.parameters()\n",
        "print(sum(p.nelement() for p in parameters))  # number of parameters\n",
        "for p in parameters:\n",
        "  p.requires_grad = True\n"
      ],
      "metadata": {
        "colab": {
          "base_uri": "https://localhost:8080/"
        },
        "id": "2jZJWCugAIeS",
        "outputId": "b47d459d-2aa3-498a-8ecc-ba3e6ff53c10"
      },
      "execution_count": null,
      "outputs": [
        {
          "output_type": "stream",
          "name": "stdout",
          "text": [
            "85713\n"
          ]
        }
      ]
    },
    {
      "cell_type": "code",
      "source": [
        "model.layers[3].running_mean.shape"
      ],
      "metadata": {
        "colab": {
          "base_uri": "https://localhost:8080/"
        },
        "id": "qpuxoMrBEIqX",
        "outputId": "19ffa42e-e28d-46b0-fc5d-544c2f2e4cae"
      },
      "execution_count": null,
      "outputs": [
        {
          "output_type": "execute_result",
          "data": {
            "text/plain": [
              "torch.Size([134])"
            ]
          },
          "metadata": {},
          "execution_count": 152
        }
      ]
    },
    {
      "cell_type": "code",
      "source": [
        "# optimization\n",
        "max_steps = 200000\n",
        "batch_size = 64\n",
        "lossi = []\n",
        "\n",
        "for i in range(max_steps):\n",
        "\n",
        "  # mini batch construct\n",
        "  ix = torch.randint(low=0, high=Xtr.shape[0], size=(batch_size,))\n",
        "  Xb, Yb = Xtr[ix], Ytr[ix]   # plucks out random batch_size=32 rows from training set (182456, 3)\n",
        "\n",
        "  # forward pass\n",
        "  # emb = C[Xb]   # enmbed the characters into vectors\n",
        "  # x = emb.view(emb.shape[0], -1) # concatenate the vectors\n",
        "  logits = model(Xb)\n",
        "  loss = F.cross_entropy(logits, Yb)\n",
        "\n",
        "  # backward pass\n",
        "  for p in parameters:\n",
        "    p.grad = None\n",
        "  loss.backward()\n",
        "\n",
        "  lr = 0.1   # step learning rate decay\n",
        "  if i > 80000 and i < 140000:\n",
        "    lr /= 10\n",
        "  elif i >140000:\n",
        "    lr /= 10\n",
        "\n",
        "  # update parameters using SGD\n",
        "  for p in parameters:\n",
        "    p.data += -lr * p.grad\n",
        "\n",
        "  # track stats\n",
        "  if i % 10000 == 0:\n",
        "    print(f'{i:7d}/{max_steps:7d}: {loss.item():.4f}')\n",
        "  lossi.append(loss.log10().item())\n",
        "\n",
        "\n"
      ],
      "metadata": {
        "colab": {
          "base_uri": "https://localhost:8080/"
        },
        "collapsed": true,
        "id": "Yzl6HIuwDrIW",
        "outputId": "d8622178-1218-449d-94b6-7ff1a94fe4b0"
      },
      "execution_count": null,
      "outputs": [
        {
          "output_type": "stream",
          "name": "stdout",
          "text": [
            "      0/ 200000: 3.3249\n",
            "  10000/ 200000: 1.8957\n",
            "  20000/ 200000: 2.1251\n",
            "  30000/ 200000: 1.7794\n",
            "  40000/ 200000: 1.8932\n",
            "  50000/ 200000: 1.7849\n",
            "  60000/ 200000: 1.9770\n",
            "  70000/ 200000: 1.8170\n",
            "  80000/ 200000: 1.7534\n",
            "  90000/ 200000: 1.7487\n",
            " 100000/ 200000: 1.7264\n",
            " 110000/ 200000: 1.5592\n",
            " 120000/ 200000: 1.6416\n",
            " 130000/ 200000: 1.6715\n",
            " 140000/ 200000: 1.7937\n",
            " 150000/ 200000: 1.8006\n",
            " 160000/ 200000: 1.6650\n",
            " 170000/ 200000: 1.8418\n",
            " 180000/ 200000: 1.5256\n",
            " 190000/ 200000: 1.9216\n"
          ]
        }
      ]
    },
    {
      "cell_type": "code",
      "source": [
        "for layer in model.layers:\n",
        "  print(layer.__class__.__name__, ':', tuple(layer.out.shape))"
      ],
      "metadata": {
        "colab": {
          "base_uri": "https://localhost:8080/"
        },
        "id": "8dL4jxQHQIXN",
        "outputId": "8507446b-4cb5-4a99-8ea0-c7e074945f4e"
      },
      "execution_count": null,
      "outputs": [
        {
          "output_type": "stream",
          "name": "stdout",
          "text": [
            "Embedding : (64, 8, 32)\n",
            "FlattenConsecutive : (64, 4, 64)\n",
            "Linear : (64, 4, 134)\n",
            "BatchNorm1d : (64, 4, 134)\n",
            "Tanh : (64, 4, 134)\n",
            "FlattenConsecutive : (64, 2, 268)\n",
            "Linear : (64, 2, 134)\n",
            "BatchNorm1d : (64, 2, 134)\n",
            "Tanh : (64, 2, 134)\n",
            "FlattenConsecutive : (64, 268)\n",
            "Linear : (64, 134)\n",
            "BatchNorm1d : (64, 134)\n",
            "Tanh : (64, 134)\n",
            "Linear : (64, 27)\n"
          ]
        }
      ]
    },
    {
      "cell_type": "code",
      "source": [
        "plt.plot(torch.tensor(lossi).view(-1, 1000).mean(dim=1))\n"
      ],
      "metadata": {
        "colab": {
          "base_uri": "https://localhost:8080/",
          "height": 447
        },
        "id": "VEo0dfx93kop",
        "outputId": "cab58b71-3ab9-41c3-bb4f-0f92f388d264"
      },
      "execution_count": null,
      "outputs": [
        {
          "output_type": "execute_result",
          "data": {
            "text/plain": [
              "[<matplotlib.lines.Line2D at 0x79141121b790>]"
            ]
          },
          "metadata": {},
          "execution_count": 155
        },
        {
          "output_type": "display_data",
          "data": {
            "text/plain": [
              "<Figure size 640x480 with 1 Axes>"
            ],
            "image/png": "[encoded data removed]"
          },
          "metadata": {}
        }
      ]
    },
    {
      "cell_type": "code",
      "source": [
        "# put all layers into eval mode\n",
        "for layer in model.layers:\n",
        "  layer.training = False"
      ],
      "metadata": {
        "id": "Qn8AJ-5G6PMq"
      },
      "execution_count": null,
      "outputs": []
    },
    {
      "cell_type": "code",
      "source": [
        "# eval the loss\n",
        "@torch.no_grad() # this decorator disables gradiant tracking inside pytorch\n",
        "def split_loss(split):\n",
        "  x,y = {\n",
        "      'train' : (Xtr, Ytr),\n",
        "      'val' : (Xdev, Ydev),\n",
        "      'test' : (Xte, Yte),\n",
        "  } [split]\n",
        "  # emb = C[x]  # (N, block_size, n_emb)\n",
        "  # x = emb.view(emb.shape[0], -1)  # concat into (N, block_size * n_emb)\n",
        "  # for layer in layers:\n",
        "  # x = layer(x)\n",
        "  logits = model(x)\n",
        "  loss = F.cross_entropy(logits, y)\n",
        "  print(split, loss.item())\n",
        "\n",
        "split_loss('train')\n",
        "split_loss('val')\n"
      ],
      "metadata": {
        "colab": {
          "base_uri": "https://localhost:8080/"
        },
        "id": "tsiJfzgL6lJU",
        "outputId": "0b599853-fddc-4fe5-d690-db488ff1bbde"
      },
      "execution_count": null,
      "outputs": [
        {
          "output_type": "stream",
          "name": "stdout",
          "text": [
            "train 1.6906023025512695\n",
            "val 2.0237276554107666\n"
          ]
        }
      ]
    },
    {
      "cell_type": "markdown",
      "source": [
        "### performance log:\n",
        "* original (3 character context + 200 hidden neurons, 12k params): train 2.058, val 2.106\n",
        "* conext: 3->8 (22k parameters): train 1.916, val 2.034\n",
        "* flat -> hierarchical (22k parameters): train 1.943, val 2.0329\n",
        "* fix bug in batchnorm: train 1.9108, val 2.0204\n",
        "* scale up the network: (8 character context + 128 hidden neurons, 24 embeddings) 76k params: train 1.768, val 1.993\n"
      ],
      "metadata": {
        "id": "W4DuCkes9XKk"
      }
    },
    {
      "cell_type": "code",
      "source": [
        "# sample from the model\n",
        "for _ in range(20):\n",
        "  out = []\n",
        "  context = [0] * block_size # initialize with '...'\n",
        "  while True:\n",
        "    # forward pass\n",
        "    # emb = C[torch.tensor([context])]  # (1, block_size, n_emb)\n",
        "    # x = emb.view(emb.shape[0], -1)  # concatenate the vectors\n",
        "    # for layer in layers:\n",
        "    #  x = layer(x)\n",
        "    # logits = x\n",
        "    logits = model(torch.tensor([context]))\n",
        "    probs = F.softmax(logits, dim=1)\n",
        "\n",
        "    # sample from the distribution\n",
        "    ix = torch.multinomial(probs, num_samples=1).item()\n",
        "    # shift the context window and track the samples\n",
        "    context = context[1:] + [ix]\n",
        "    out.append(ix)\n",
        "    # if we sample the special '.' token, break\n",
        "    if ix == 0:\n",
        "      break\n",
        "\n",
        "  print(''.join(itos[i] for i in out))"
      ],
      "metadata": {
        "colab": {
          "base_uri": "https://localhost:8080/"
        },
        "id": "dDehRy-l7xXV",
        "outputId": "e850d4db-56dd-4610-f564-3323c20cb58c"
      },
      "execution_count": null,
      "outputs": [
        {
          "output_type": "stream",
          "name": "stdout",
          "text": [
            "amiri.\n",
            "matkayus.\n",
            "natalie.\n",
            "ezabella.\n",
            "abdulee.\n",
            "konnie.\n",
            "ovi.\n",
            "aula.\n",
            "ava.\n",
            "nadency.\n",
            "betsier.\n",
            "jerriah.\n",
            "devina.\n",
            "limonie.\n",
            "elieanna.\n",
            "maximo.\n",
            "macari.\n",
            "daelynn.\n",
            "antwari.\n",
            "braycey.\n"
          ]
        }
      ]
    },
    {
      "cell_type": "code",
      "source": [],
      "metadata": {
        "id": "uXdLt3RWPN-Q"
      },
      "execution_count": null,
      "outputs": []
    }
  ]
}